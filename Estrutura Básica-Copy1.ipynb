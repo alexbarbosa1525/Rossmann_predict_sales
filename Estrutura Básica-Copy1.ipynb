{
 "cells": [
  {
   "cell_type": "markdown",
   "id": "a2442ca6",
   "metadata": {},
   "source": [
    "# DS em Produção"
   ]
  },
  {
   "cell_type": "markdown",
   "id": "4fc010df",
   "metadata": {},
   "source": [
    "Metodo Crisp"
   ]
  },
  {
   "cell_type": "markdown",
   "id": "bfee546c",
   "metadata": {},
   "source": [
    "# 0.0 Imports"
   ]
  },
  {
   "cell_type": "code",
   "execution_count": 1,
   "id": "2fae4a55",
   "metadata": {
    "ExecuteTime": {
     "end_time": "2022-06-12T15:12:49.133597Z",
     "start_time": "2022-06-12T15:12:46.557286Z"
    }
   },
   "outputs": [],
   "source": [
    "import pandas as  pd\n",
    "import numpy as np\n",
    "import inflection\n",
    "import math\n",
    "import seaborn as sns\n",
    "from matplotlib import pyplot as plt\n",
    "from IPython.core.display import HTML\n",
    "from IPython.display import Image"
   ]
  },
  {
   "cell_type": "markdown",
   "id": "8d87f99c",
   "metadata": {},
   "source": [
    "## Helper Functions"
   ]
  },
  {
   "cell_type": "code",
   "execution_count": 2,
   "id": "36d8fc72",
   "metadata": {
    "ExecuteTime": {
     "end_time": "2022-06-12T15:12:49.155637Z",
     "start_time": "2022-06-12T15:12:49.133597Z"
    }
   },
   "outputs": [],
   "source": [
    "def jupyter_settings():\n",
    "    %matplotlib inline\n",
    "    %pylab inline\n",
    "    \n",
    "    plt.style.use( 'bmh' )\n",
    "    plt.rcParams['figure.figsize'] = [25, 12]\n",
    "    plt.rcParams['font.size'] = 24\n",
    "    \n",
    "    display( HTML( '<style>.container { width:100% !important; }</style>') )\n",
    "    pd.options.display.max_columns = None\n",
    "    pd.options.display.max_rows = None\n",
    "    pd.set_option( 'display.expand_frame_repr', False )\n",
    "    \n",
    "    sns.set()"
   ]
  },
  {
   "cell_type": "code",
   "execution_count": 3,
   "id": "f0eacaac",
   "metadata": {
    "ExecuteTime": {
     "end_time": "2022-06-12T15:12:49.203631Z",
     "start_time": "2022-06-12T15:12:49.155637Z"
    }
   },
   "outputs": [
    {
     "name": "stdout",
     "output_type": "stream",
     "text": [
      "Populating the interactive namespace from numpy and matplotlib\n"
     ]
    },
    {
     "data": {
      "text/html": [
       "<style>.container { width:100% !important; }</style>"
      ],
      "text/plain": [
       "<IPython.core.display.HTML object>"
      ]
     },
     "metadata": {},
     "output_type": "display_data"
    }
   ],
   "source": [
    "jupyter_settings()"
   ]
  },
  {
   "cell_type": "markdown",
   "id": "ed08cb9b",
   "metadata": {},
   "source": [
    "## 0.2 Loading Data"
   ]
  },
  {
   "cell_type": "code",
   "execution_count": 4,
   "id": "0ba4bcb3",
   "metadata": {
    "ExecuteTime": {
     "end_time": "2022-06-12T15:12:50.529429Z",
     "start_time": "2022-06-12T15:12:49.203631Z"
    }
   },
   "outputs": [],
   "source": [
    "df_store_raw = pd.read_csv('data/store.csv', low_memory = False)\n",
    "df_sales_raw = pd.read_csv('data/train.csv', low_memory = False)\n",
    "\n",
    "#merge\n",
    "df_raw = pd.merge( df_sales_raw, df_store_raw, how = 'left', on = 'Store')"
   ]
  },
  {
   "cell_type": "markdown",
   "id": "878ea9eb",
   "metadata": {},
   "source": [
    "# Descrição dos dados"
   ]
  },
  {
   "cell_type": "code",
   "execution_count": 5,
   "id": "06052abb",
   "metadata": {
    "ExecuteTime": {
     "end_time": "2022-06-12T15:12:50.794440Z",
     "start_time": "2022-06-12T15:12:50.529429Z"
    }
   },
   "outputs": [],
   "source": [
    "df1 = df_raw.copy()"
   ]
  },
  {
   "cell_type": "markdown",
   "id": "c3e99a27",
   "metadata": {},
   "source": [
    "## Rename Columns"
   ]
  },
  {
   "cell_type": "code",
   "execution_count": 6,
   "id": "23ae040c",
   "metadata": {
    "ExecuteTime": {
     "end_time": "2022-06-12T15:12:50.810438Z",
     "start_time": "2022-06-12T15:12:50.794440Z"
    }
   },
   "outputs": [
    {
     "data": {
      "text/plain": [
       "Index(['Store', 'DayOfWeek', 'Date', 'Sales', 'Customers', 'Open', 'Promo',\n",
       "       'StateHoliday', 'SchoolHoliday', 'StoreType', 'Assortment',\n",
       "       'CompetitionDistance', 'CompetitionOpenSinceMonth',\n",
       "       'CompetitionOpenSinceYear', 'Promo2', 'Promo2SinceWeek',\n",
       "       'Promo2SinceYear', 'PromoInterval'],\n",
       "      dtype='object')"
      ]
     },
     "execution_count": 6,
     "metadata": {},
     "output_type": "execute_result"
    }
   ],
   "source": [
    "df_raw.columns"
   ]
  },
  {
   "cell_type": "code",
   "execution_count": 7,
   "id": "d35a14d7",
   "metadata": {
    "ExecuteTime": {
     "end_time": "2022-06-12T15:12:50.826415Z",
     "start_time": "2022-06-12T15:12:50.810438Z"
    }
   },
   "outputs": [],
   "source": [
    "cols_old = ['Store', 'DayOfWeek', 'Date', 'Sales', 'Customers', 'Open', 'Promo',\n",
    "       'StateHoliday', 'SchoolHoliday', 'StoreType', 'Assortment',\n",
    "       'CompetitionDistance', 'CompetitionOpenSinceMonth',\n",
    "       'CompetitionOpenSinceYear', 'Promo2', 'Promo2SinceWeek',\n",
    "       'Promo2SinceYear', 'PromoInterval']\n",
    "\n",
    "# Função para alterar as letras para minusculas\n",
    "\n",
    "snakecase = lambda x: inflection.underscore (x)\n",
    "\n",
    "cols_new = list( map ( snakecase, cols_old))\n",
    "\n",
    "df1.columns = cols_new"
   ]
  },
  {
   "cell_type": "code",
   "execution_count": 8,
   "id": "bd798640",
   "metadata": {
    "ExecuteTime": {
     "end_time": "2022-06-12T15:12:50.842413Z",
     "start_time": "2022-06-12T15:12:50.826415Z"
    }
   },
   "outputs": [
    {
     "data": {
      "text/plain": [
       "Index(['store', 'day_of_week', 'date', 'sales', 'customers', 'open', 'promo',\n",
       "       'state_holiday', 'school_holiday', 'store_type', 'assortment',\n",
       "       'competition_distance', 'competition_open_since_month',\n",
       "       'competition_open_since_year', 'promo2', 'promo2_since_week',\n",
       "       'promo2_since_year', 'promo_interval'],\n",
       "      dtype='object')"
      ]
     },
     "execution_count": 8,
     "metadata": {},
     "output_type": "execute_result"
    }
   ],
   "source": [
    "df1.columns"
   ]
  },
  {
   "cell_type": "markdown",
   "id": "2346bbab",
   "metadata": {},
   "source": [
    "## Data Dimensions"
   ]
  },
  {
   "cell_type": "code",
   "execution_count": 9,
   "id": "94357b21",
   "metadata": {
    "ExecuteTime": {
     "end_time": "2022-06-12T15:12:50.866411Z",
     "start_time": "2022-06-12T15:12:50.842413Z"
    }
   },
   "outputs": [
    {
     "name": "stdout",
     "output_type": "stream",
     "text": [
      "Number of Rows: 1017209\n",
      "Number of Cols: 18\n"
     ]
    }
   ],
   "source": [
    "print ('Number of Rows: {}' .format ( df1.shape[0]))\n",
    "print ('Number of Cols: {}' .format ( df1.shape[1]))"
   ]
  },
  {
   "cell_type": "markdown",
   "id": "068d8a6f",
   "metadata": {},
   "source": [
    "## Data Types"
   ]
  },
  {
   "cell_type": "code",
   "execution_count": 10,
   "id": "03a07bba",
   "metadata": {
    "ExecuteTime": {
     "end_time": "2022-06-12T15:12:51.074412Z",
     "start_time": "2022-06-12T15:12:50.866411Z"
    }
   },
   "outputs": [
    {
     "data": {
      "text/plain": [
       "store                                    int64\n",
       "day_of_week                              int64\n",
       "date                            datetime64[ns]\n",
       "sales                                    int64\n",
       "customers                                int64\n",
       "open                                     int64\n",
       "promo                                    int64\n",
       "state_holiday                           object\n",
       "school_holiday                           int64\n",
       "store_type                              object\n",
       "assortment                              object\n",
       "competition_distance                   float64\n",
       "competition_open_since_month           float64\n",
       "competition_open_since_year            float64\n",
       "promo2                                   int64\n",
       "promo2_since_week                      float64\n",
       "promo2_since_year                      float64\n",
       "promo_interval                          object\n",
       "dtype: object"
      ]
     },
     "execution_count": 10,
     "metadata": {},
     "output_type": "execute_result"
    }
   ],
   "source": [
    "df1['date'] = pd.to_datetime( df1['date'] )\n",
    "df1.dtypes"
   ]
  },
  {
   "cell_type": "markdown",
   "id": "464a3f50",
   "metadata": {},
   "source": [
    "## Check NA"
   ]
  },
  {
   "cell_type": "code",
   "execution_count": 11,
   "id": "d3c11700",
   "metadata": {
    "ExecuteTime": {
     "end_time": "2022-06-12T15:12:51.306371Z",
     "start_time": "2022-06-12T15:12:51.074412Z"
    }
   },
   "outputs": [
    {
     "data": {
      "text/plain": [
       "store                                0\n",
       "day_of_week                          0\n",
       "date                                 0\n",
       "sales                                0\n",
       "customers                            0\n",
       "open                                 0\n",
       "promo                                0\n",
       "state_holiday                        0\n",
       "school_holiday                       0\n",
       "store_type                           0\n",
       "assortment                           0\n",
       "competition_distance              2642\n",
       "competition_open_since_month    323348\n",
       "competition_open_since_year     323348\n",
       "promo2                               0\n",
       "promo2_since_week               508031\n",
       "promo2_since_year               508031\n",
       "promo_interval                  508031\n",
       "dtype: int64"
      ]
     },
     "execution_count": 11,
     "metadata": {},
     "output_type": "execute_result"
    }
   ],
   "source": [
    "df1.isna().sum()"
   ]
  },
  {
   "cell_type": "markdown",
   "id": "632da45b",
   "metadata": {},
   "source": [
    "## Fillout NA"
   ]
  },
  {
   "cell_type": "code",
   "execution_count": 12,
   "id": "1afebbb3",
   "metadata": {
    "ExecuteTime": {
     "end_time": "2022-06-12T15:12:51.458397Z",
     "start_time": "2022-06-12T15:12:51.314371Z"
    }
   },
   "outputs": [
    {
     "data": {
      "text/html": [
       "<div>\n",
       "<style scoped>\n",
       "    .dataframe tbody tr th:only-of-type {\n",
       "        vertical-align: middle;\n",
       "    }\n",
       "\n",
       "    .dataframe tbody tr th {\n",
       "        vertical-align: top;\n",
       "    }\n",
       "\n",
       "    .dataframe thead th {\n",
       "        text-align: right;\n",
       "    }\n",
       "</style>\n",
       "<table border=\"1\" class=\"dataframe\">\n",
       "  <thead>\n",
       "    <tr style=\"text-align: right;\">\n",
       "      <th></th>\n",
       "      <th>store</th>\n",
       "      <th>day_of_week</th>\n",
       "      <th>date</th>\n",
       "      <th>sales</th>\n",
       "      <th>customers</th>\n",
       "      <th>open</th>\n",
       "      <th>promo</th>\n",
       "      <th>state_holiday</th>\n",
       "      <th>school_holiday</th>\n",
       "      <th>store_type</th>\n",
       "      <th>assortment</th>\n",
       "      <th>competition_distance</th>\n",
       "      <th>competition_open_since_month</th>\n",
       "      <th>competition_open_since_year</th>\n",
       "      <th>promo2</th>\n",
       "      <th>promo2_since_week</th>\n",
       "      <th>promo2_since_year</th>\n",
       "      <th>promo_interval</th>\n",
       "    </tr>\n",
       "  </thead>\n",
       "  <tbody>\n",
       "    <tr>\n",
       "      <th>595139</th>\n",
       "      <td>515</td>\n",
       "      <td>2</td>\n",
       "      <td>2014-01-14</td>\n",
       "      <td>6018</td>\n",
       "      <td>578</td>\n",
       "      <td>1</td>\n",
       "      <td>0</td>\n",
       "      <td>0</td>\n",
       "      <td>0</td>\n",
       "      <td>d</td>\n",
       "      <td>c</td>\n",
       "      <td>11260.0</td>\n",
       "      <td>NaN</td>\n",
       "      <td>NaN</td>\n",
       "      <td>1</td>\n",
       "      <td>9.0</td>\n",
       "      <td>2011.0</td>\n",
       "      <td>Feb,May,Aug,Nov</td>\n",
       "    </tr>\n",
       "  </tbody>\n",
       "</table>\n",
       "</div>"
      ],
      "text/plain": [
       "        store  day_of_week       date  sales  customers  open  promo state_holiday  school_holiday store_type assortment  competition_distance  competition_open_since_month  competition_open_since_year  promo2  promo2_since_week  promo2_since_year   promo_interval\n",
       "595139    515            2 2014-01-14   6018        578     1      0             0               0          d          c               11260.0                           NaN                          NaN       1                9.0             2011.0  Feb,May,Aug,Nov"
      ]
     },
     "execution_count": 12,
     "metadata": {},
     "output_type": "execute_result"
    }
   ],
   "source": [
    "df1.sample()"
   ]
  },
  {
   "cell_type": "code",
   "execution_count": 13,
   "id": "55cfb4a9",
   "metadata": {
    "ExecuteTime": {
     "end_time": "2022-06-12T15:12:51.490362Z",
     "start_time": "2022-06-12T15:12:51.458397Z"
    }
   },
   "outputs": [
    {
     "data": {
      "text/plain": [
       "75860.0"
      ]
     },
     "execution_count": 13,
     "metadata": {},
     "output_type": "execute_result"
    }
   ],
   "source": [
    "df1['competition_distance'].max()"
   ]
  },
  {
   "cell_type": "code",
   "execution_count": null,
   "id": "7b00cc5b",
   "metadata": {
    "ExecuteTime": {
     "start_time": "2022-06-12T15:12:46.604Z"
    }
   },
   "outputs": [],
   "source": [
    "#competition_distance        \n",
    "df1['competition_distance'] = df1['competition_distance'].apply( lambda x: 200000.0 if math.isnan( x ) else x )\n",
    "\n",
    "#competition_open_since_month\n",
    "df1['competition_open_since_month'] = df1.apply( lambda x: x['date'].month if math.isnan( x['competition_open_since_month'] ) else x['competition_open_since_month'], axis=1 )\n",
    "\n",
    "#competition_open_since_year \n",
    "df1['competition_open_since_year'] = df1.apply( lambda x: x['date'].year if math.isnan( x['competition_open_since_year'] ) else x['competition_open_since_year'], axis=1 )\n",
    "\n",
    "#promo2_since_week           \n",
    "df1['promo2_since_week'] = df1.apply( lambda x: x['date'].week if math.isnan( x['promo2_since_week'] ) else x['promo2_since_week'], axis=1 )\n",
    "\n",
    "#promo2_since_year           \n",
    "df1['promo2_since_year'] = df1.apply( lambda x: x['date'].year if math.isnan( x['promo2_since_year'] ) else x['promo2_since_year'], axis=1 )\n",
    "\n",
    "#promo_interval              \n",
    "month_map = {1: 'Jan',  2: 'Fev',  3: 'Mar',  4: 'Apr',  5: 'May',  6: 'Jun',  7: 'Jul',  8: 'Aug',  9: 'Sep',  10: 'Oct', 11: 'Nov', 12: 'Dec'}\n",
    "\n",
    "df1['promo_interval'].fillna(0, inplace=True )\n",
    "\n",
    "df1['month_map'] = df1['date'].dt.month.map( month_map )\n",
    "\n",
    "df1['is_promo'] = df1[['promo_interval', 'month_map']].apply( lambda x: 0 if x['promo_interval'] == 0 else 1 if x['month_map'] in x['promo_interval'].split( ',' ) else 0, axis=1 )\n"
   ]
  },
  {
   "cell_type": "code",
   "execution_count": null,
   "id": "13a4e32a",
   "metadata": {
    "ExecuteTime": {
     "start_time": "2022-06-12T15:12:46.612Z"
    }
   },
   "outputs": [],
   "source": [
    "df1.isna().sum()"
   ]
  },
  {
   "cell_type": "markdown",
   "id": "e66552fc",
   "metadata": {},
   "source": [
    "## Change Data Types"
   ]
  },
  {
   "cell_type": "code",
   "execution_count": null,
   "id": "41205936",
   "metadata": {
    "ExecuteTime": {
     "start_time": "2022-06-12T15:12:46.618Z"
    }
   },
   "outputs": [],
   "source": [
    "# competiton\n",
    "df1['competition_open_since_month'] = df1['competition_open_since_month'].astype( int )\n",
    "df1['competition_open_since_year'] = df1['competition_open_since_year'].astype( int )\n",
    "    \n",
    "# promo2\n",
    "df1['promo2_since_week'] = df1['promo2_since_week'].astype( int )\n",
    "df1['promo2_since_year'] = df1['promo2_since_year'].astype( int )"
   ]
  },
  {
   "cell_type": "markdown",
   "id": "962c7f47",
   "metadata": {},
   "source": [
    "## Descriptive Statistics"
   ]
  },
  {
   "cell_type": "code",
   "execution_count": null,
   "id": "5503d1f9",
   "metadata": {
    "ExecuteTime": {
     "start_time": "2022-06-12T15:12:46.627Z"
    }
   },
   "outputs": [],
   "source": [
    "num_attributes = df1.select_dtypes( include=['int64', 'float64'] )\n",
    "cat_attributes = df1.select_dtypes( exclude=['int64', 'float64', 'datetime64[ns]'] )\n",
    "\n"
   ]
  },
  {
   "cell_type": "code",
   "execution_count": null,
   "id": "768e8c96",
   "metadata": {
    "ExecuteTime": {
     "start_time": "2022-06-12T15:12:46.632Z"
    }
   },
   "outputs": [],
   "source": [
    "# Central Tendency - mean , median\n",
    "# Dispersion - std, min, max, range, skew, kurtosis"
   ]
  },
  {
   "cell_type": "markdown",
   "id": "6b916d0f",
   "metadata": {},
   "source": [
    "### Numerical Atributes"
   ]
  },
  {
   "cell_type": "code",
   "execution_count": null,
   "id": "57fe5d22",
   "metadata": {
    "ExecuteTime": {
     "start_time": "2022-06-12T15:12:46.639Z"
    }
   },
   "outputs": [],
   "source": [
    "# Central Tendency - mean, meadina \n",
    "ct1 = pd.DataFrame( num_attributes.apply( np.mean ) ).T\n",
    "ct2 = pd.DataFrame( num_attributes.apply( np.median ) ).T\n",
    "\n",
    "# dispersion - std, min, max, range, skew, kurtosis\n",
    "d1 = pd.DataFrame( num_attributes.apply( np.std ) ).T \n",
    "d2 = pd.DataFrame( num_attributes.apply( min ) ).T \n",
    "d3 = pd.DataFrame( num_attributes.apply( max ) ).T \n",
    "d4 = pd.DataFrame( num_attributes.apply( lambda x: x.max() - x.min() ) ).T \n",
    "d5 = pd.DataFrame( num_attributes.apply( lambda x: x.skew() ) ).T \n",
    "d6 = pd.DataFrame( num_attributes.apply( lambda x: x.kurtosis() ) ).T \n",
    "\n",
    "# concatenar\n",
    "m = pd.concat( [d2, d3, d4, ct1, ct2, d1, d5, d6] ).T.reset_index()\n",
    "m.columns = ['attributes', 'min', 'max', 'range', 'mean', 'median', 'std', 'skew', 'kurtosis']\n",
    "m"
   ]
  },
  {
   "cell_type": "code",
   "execution_count": null,
   "id": "ac8ffd97",
   "metadata": {
    "ExecuteTime": {
     "start_time": "2022-06-12T15:12:46.644Z"
    }
   },
   "outputs": [],
   "source": [
    "sns.distplot( df1['competition_distance'], kde=False )"
   ]
  },
  {
   "cell_type": "code",
   "execution_count": null,
   "id": "abe68ce2",
   "metadata": {
    "ExecuteTime": {
     "start_time": "2022-06-12T15:12:46.649Z"
    }
   },
   "outputs": [],
   "source": [
    "sns.distplot( df1['sales'])"
   ]
  },
  {
   "cell_type": "code",
   "execution_count": null,
   "id": "43c87d8a",
   "metadata": {
    "ExecuteTime": {
     "start_time": "2022-06-12T15:12:46.653Z"
    }
   },
   "outputs": [],
   "source": [
    "## sempre verificar os valores\n",
    "\n",
    "## min, max e o range entre eles dão uma noção do atributo\n",
    "## média e mediana próximas mostram que a distribuição está próxima da normal. Se estiverem distantes, temos outliers ou uma distribuição desbalanceada (poison ou outra)\n",
    "## Skewness é uma métrica de simetria. quanto mais próxima de 0, mais simétrico é o dado.\n",
    "## Kurtosis "
   ]
  },
  {
   "cell_type": "markdown",
   "id": "2dbadab2",
   "metadata": {},
   "source": [
    "## Categorical Atributes"
   ]
  },
  {
   "cell_type": "code",
   "execution_count": null,
   "id": "f43bbdfb",
   "metadata": {
    "ExecuteTime": {
     "start_time": "2022-06-12T15:12:46.659Z"
    }
   },
   "outputs": [],
   "source": [
    "cat_attributes.apply( lambda x: x.unique().shape[0] )"
   ]
  },
  {
   "cell_type": "code",
   "execution_count": null,
   "id": "8fc448ca",
   "metadata": {
    "ExecuteTime": {
     "start_time": "2022-06-12T15:12:46.663Z"
    }
   },
   "outputs": [],
   "source": [
    "aux = df1[(df1['state_holiday'] != '0') & (df1['sales'] > 0)]\n",
    "\n",
    "plt.subplot( 1, 3, 1 )\n",
    "sns.boxplot( x='state_holiday', y='sales', data=aux )\n",
    "\n",
    "plt.subplot( 1, 3, 2 )\n",
    "sns.boxplot( x='store_type', y='sales', data=aux )\n",
    "\n",
    "plt.subplot( 1, 3, 3 )\n",
    "sns.boxplot( x='assortment', y='sales', data=aux )"
   ]
  },
  {
   "cell_type": "markdown",
   "id": "2136231c",
   "metadata": {},
   "source": [
    "# Feature Engineering"
   ]
  },
  {
   "cell_type": "markdown",
   "id": "786b300e",
   "metadata": {
    "ExecuteTime": {
     "end_time": "2022-03-29T01:08:40.822275Z",
     "start_time": "2022-03-29T01:08:40.818282Z"
    }
   },
   "source": [
    "## Mapa Mental de Hipóteses"
   ]
  },
  {
   "cell_type": "code",
   "execution_count": null,
   "id": "1e1ff046",
   "metadata": {
    "ExecuteTime": {
     "start_time": "2022-06-12T15:12:46.667Z"
    }
   },
   "outputs": [],
   "source": [
    "Image('img/mindmaphipotesys.png')"
   ]
  },
  {
   "cell_type": "markdown",
   "id": "38d1277f",
   "metadata": {},
   "source": [
    "### Criação das Hipóteses"
   ]
  },
  {
   "cell_type": "code",
   "execution_count": null,
   "id": "b6e41cab",
   "metadata": {
    "ExecuteTime": {
     "start_time": "2022-06-12T15:12:46.671Z"
    }
   },
   "outputs": [],
   "source": [
    "df2 = df1"
   ]
  },
  {
   "cell_type": "markdown",
   "id": "1bf537a4",
   "metadata": {},
   "source": [
    "#### Hipóteses Loja"
   ]
  },
  {
   "cell_type": "markdown",
   "id": "2aad73be",
   "metadata": {
    "ExecuteTime": {
     "end_time": "2022-03-29T01:10:38.065003Z",
     "start_time": "2022-03-29T01:10:38.054013Z"
    }
   },
   "source": [
    "**1.**"
   ]
  },
  {
   "cell_type": "code",
   "execution_count": null,
   "id": "85b90924",
   "metadata": {},
   "outputs": [],
   "source": []
  },
  {
   "cell_type": "code",
   "execution_count": null,
   "id": "32313ce4",
   "metadata": {},
   "outputs": [],
   "source": []
  },
  {
   "cell_type": "markdown",
   "id": "b3f52052",
   "metadata": {},
   "source": [
    "#### Hipóteses Produto"
   ]
  },
  {
   "cell_type": "markdown",
   "id": "d61c5d1e",
   "metadata": {
    "heading_collapsed": true
   },
   "source": [
    "#### Hipóteses Tempo"
   ]
  },
  {
   "cell_type": "markdown",
   "id": "315f97d4",
   "metadata": {},
   "source": [
    "## Novas Features"
   ]
  },
  {
   "cell_type": "code",
   "execution_count": null,
   "id": "878d389f",
   "metadata": {
    "ExecuteTime": {
     "start_time": "2022-06-12T15:12:46.681Z"
    }
   },
   "outputs": [],
   "source": [
    "# year\n",
    "df2['year'] = df2['date'].dt.year\n",
    "\n",
    "# month\n",
    "df2['month'] = df2['date'].dt.month\n",
    "# day\n",
    "df2['day'] = df2['date'].dt.day\n",
    "\n",
    "# week of year\n",
    "df2['week_of_year'] = df2['date'].dt.weekofyear\n",
    "\n",
    "# year week\n",
    "df2['year_week'] = df2['date'].dt.strftime( '%Y-%W' )\n",
    "\n",
    "# competition since\n",
    "df2['competition_since'] = df2.apply( lambda x: datetime.datetime( year=x['competition_open_since_year'], month=x['competition_open_since_month'],day=1 ), axis=1 )\n",
    "df2['competition_time_month'] = ( ( df2['date'] - df2['competition_since'] )/30 ).apply( lambda x: x.days ).astype( int )\n",
    "\n",
    "# promo since\n",
    "df2['promo_since'] = df2['promo2_since_year'].astype( str ) + '-' + df2['promo2_since_week'].astype( str )\n",
    "df2['promo_since'] = df2['promo_since'].apply( lambda x: datetime.datetime.strptime( x + '-1', '%Y-%W-%w' ) - datetime.timedelta( days=7 ) )\n",
    "df2['promo_time_week'] = ( ( df2['date'] - df2['promo_since'] )/7 ).apply( lambda x: x.days ).astype( int )\n",
    "\n",
    "# assortment\n",
    "df2['assortment'] = df2['assortment'].apply( lambda x: 'basic' if x == 'a' else 'extra' if x == 'b' else 'extended' )\n",
    "\n",
    "# state holiday\n",
    "df2['state_holiday'] = df2['state_holiday'].apply( lambda x: 'public_holiday' if x == 'a' else 'easter_holiday' if x == 'b' else 'christmas' if x == 'c' else 'regular_day' )\n"
   ]
  },
  {
   "cell_type": "markdown",
   "id": "5f9fb27b",
   "metadata": {},
   "source": [
    "# Filtragem de Variaveis"
   ]
  },
  {
   "cell_type": "code",
   "execution_count": null,
   "id": "9f8f5204",
   "metadata": {
    "ExecuteTime": {
     "start_time": "2022-06-12T15:12:46.685Z"
    }
   },
   "outputs": [],
   "source": [
    "df3 = df2.copy()"
   ]
  },
  {
   "cell_type": "markdown",
   "id": "9ad970c3",
   "metadata": {},
   "source": [
    "## Filtragem das Linhas"
   ]
  },
  {
   "cell_type": "code",
   "execution_count": null,
   "id": "e43fa024",
   "metadata": {
    "ExecuteTime": {
     "start_time": "2022-06-12T15:12:46.688Z"
    }
   },
   "outputs": [],
   "source": [
    "df3 = df3[(df3['open'] != 0) & (df3['sales'] > 0)]"
   ]
  },
  {
   "cell_type": "markdown",
   "id": "027d8ff8",
   "metadata": {},
   "source": [
    "## Selecao das Colunas"
   ]
  },
  {
   "cell_type": "code",
   "execution_count": null,
   "id": "3d4650e4",
   "metadata": {
    "ExecuteTime": {
     "start_time": "2022-06-12T15:12:46.692Z"
    }
   },
   "outputs": [],
   "source": [
    "cols_drop = ['customers', 'open', 'promo_interval', 'month_map']\n",
    "df3 = df3.drop( cols_drop, axis=1 )"
   ]
  },
  {
   "cell_type": "code",
   "execution_count": null,
   "id": "5519a26a",
   "metadata": {},
   "outputs": [],
   "source": []
  }
 ],
 "metadata": {
  "kernelspec": {
   "display_name": "Python 3 (ipykernel)",
   "language": "python",
   "name": "python3"
  },
  "language_info": {
   "codemirror_mode": {
    "name": "ipython",
    "version": 3
   },
   "file_extension": ".py",
   "mimetype": "text/x-python",
   "name": "python",
   "nbconvert_exporter": "python",
   "pygments_lexer": "ipython3",
   "version": "3.9.7"
  },
  "toc": {
   "base_numbering": 1,
   "nav_menu": {},
   "number_sections": true,
   "sideBar": true,
   "skip_h1_title": false,
   "title_cell": "Table of Contents",
   "title_sidebar": "Contents",
   "toc_cell": false,
   "toc_position": {},
   "toc_section_display": true,
   "toc_window_display": false
  }
 },
 "nbformat": 4,
 "nbformat_minor": 5
}
